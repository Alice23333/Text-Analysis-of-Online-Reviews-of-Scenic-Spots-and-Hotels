{
 "cells": [
  {
   "cell_type": "markdown",
   "metadata": {},
   "source": [
    "# 计算每个评论的文本长度（字符数）"
   ]
  },
  {
   "cell_type": "markdown",
   "metadata": {},
   "source": [
    "## 1 导入需要的库"
   ]
  },
  {
   "cell_type": "code",
   "execution_count": 1,
   "metadata": {},
   "outputs": [],
   "source": [
    "import pandas as pd\n",
    "import jieba"
   ]
  },
  {
   "cell_type": "markdown",
   "metadata": {},
   "source": [
    "## 2 计算景区评论的文本长度"
   ]
  },
  {
   "cell_type": "markdown",
   "metadata": {},
   "source": [
    "### 2.1 导入景区评论数据"
   ]
  },
  {
   "cell_type": "code",
   "execution_count": 2,
   "metadata": {},
   "outputs": [
    {
     "data": {
      "text/plain": [
       "0        是亲子游的绝佳场所，门票就是有点贵，不过可以接受，爷爷奶奶不放心小朋友也跟上来了，当天我们十...\n",
       "1        **景区差不多，票价偏贵了。大马戏比较精彩，八点的场次，6点40才能检票进入，我们6点多看看...\n",
       "2        很有**特色的亲子酒店，房间里的装修很可爱，小孩子特别喜欢，洗漱用品也很有特色，对应的房间还...\n",
       "3        有园区的工作人员在那，他会主动给你园区里的地图和表演的时间安排，很周到，上接驳车大概也是34...\n",
       "4        周五逃课跟朋友在广州集合！终于如愿以偿的到达欢乐世界。学生票198 需要出示相关证件（校卡或...\n",
       "                               ...                        \n",
       "58663    还好吧。我们刚刚到瀑布楼遇到一点小意外，打电话到景区办公室要求帮助，景区值班领导马上行动，在...\n",
       "58664                                 山高路远，走的很辛苦。景色宜人爬山很累。\n",
       "58665                             环境很好，空气非常棒，很适合全家旅游，特别是避暑\n",
       "58666                                  都很方便，价格实惠吧，可以预早就订好。\n",
       "58667                          旅行社不负责任 到了景点没有与门票售票协调好 等了很久\n",
       "Name: 评论内容, Length: 58668, dtype: object"
      ]
     },
     "execution_count": 2,
     "metadata": {},
     "output_type": "execute_result"
    }
   ],
   "source": [
    "data = pd.read_csv(\"./景区评论.csv\",encoding='gbk',dtype=str)  # 载入全部数据\n",
    "data = data[\"评论内容\"]\n",
    "data"
   ]
  },
  {
   "cell_type": "markdown",
   "metadata": {},
   "source": [
    "### 2.2 计算每条景区评论的字符数、均值、方差、偏度"
   ]
  },
  {
   "cell_type": "code",
   "execution_count": 3,
   "metadata": {},
   "outputs": [
    {
     "data": {
      "text/plain": [
       "{'mean': 42.56690188859344,\n",
       " 'var': 3027.588157057198,\n",
       " 'skew': 6.328988272069644}"
      ]
     },
     "execution_count": 3,
     "metadata": {},
     "output_type": "execute_result"
    }
   ],
   "source": [
    "length = data.apply(lambda x: len(x))  # 每条评论的字符数\n",
    "m_v_s = {\"mean\":length.mean(),\"var\":length.var(),\"skew\":length.skew()}\n",
    "# length.mean()  # 均值\n",
    "# length.var()   # 方差\n",
    "# length.skew()  # 偏度\n",
    "m_v_s"
   ]
  },
  {
   "cell_type": "markdown",
   "metadata": {},
   "source": [
    "文本长度的均值为42.5669，即评论字数平均值约为43个字。方差为3027.5881，说明评论的长度差别很大。偏度为6.3289，说明数据呈右偏趋势，即评论字数小于平均值的偏多。有研究认为评论的文本长度与评论有效性呈“倒U型”关系，过短或过长的评论都会降低评论的有效性。"
   ]
  },
  {
   "cell_type": "markdown",
   "metadata": {},
   "source": [
    "## 3 计算酒店评论的文本长度"
   ]
  },
  {
   "cell_type": "markdown",
   "metadata": {},
   "source": [
    "### 3.1 导入酒店评论数据"
   ]
  },
  {
   "cell_type": "code",
   "execution_count": 4,
   "metadata": {},
   "outputs": [
    {
     "data": {
      "text/plain": [
       "0                                                酒店很适合家庭出行\n",
       "1                                            升级了房间 延迟退房 很赞\n",
       "2        这几年，每年都会来广州，每次都会住**酒店。因为位置好，酒店的性价比也不错，这次给免费升级了...\n",
       "3                                                   酒店很好不错\n",
       "4                                                    超五星好评\n",
       "                               ...                        \n",
       "24775    酒店是老字号宾馆，虽然有装修过但设施比较陈旧房间空调比较小，卫生间里的墙壁有剥落现象，浴室的...\n",
       "24776          本人觉得还好，价格偏高，没有很高档，服务是很好，设施偏老，也不会很大，喜欢楼下的早茶。\n",
       "24777                                         隔音极差，睡眠让人崩溃。\n",
       "24778                                       酒店位置很好，停车场比较小。\n",
       "24779                                     位置好找，停车方便，酒店太老了！\n",
       "Name: 评论内容, Length: 24780, dtype: object"
      ]
     },
     "execution_count": 4,
     "metadata": {},
     "output_type": "execute_result"
    }
   ],
   "source": [
    "data = pd.read_csv(\"./酒店评论.csv\",encoding='gbk',dtype=str)  # 载入全部数据\n",
    "data = data[\"评论内容\"]\n",
    "data"
   ]
  },
  {
   "cell_type": "markdown",
   "metadata": {},
   "source": [
    "### 3.2 计算每条酒店评论的字符数、均值、方差、偏度"
   ]
  },
  {
   "cell_type": "code",
   "execution_count": 5,
   "metadata": {},
   "outputs": [
    {
     "data": {
      "text/plain": [
       "{'mean': 35.661945117029866,\n",
       " 'var': 3602.9565807435474,\n",
       " 'skew': 10.803316588042845}"
      ]
     },
     "execution_count": 5,
     "metadata": {},
     "output_type": "execute_result"
    }
   ],
   "source": [
    "length = data.apply(lambda x: len(x))  # 每条评论的字符数\n",
    "m_v_s = {\"mean\":length.mean(),\"var\":length.var(),\"skew\":length.skew()}\n",
    "# length.mean()  # 均值\n",
    "# length.var()   # 方差\n",
    "# length.skew()  # 偏度\n",
    "m_v_s"
   ]
  },
  {
   "cell_type": "markdown",
   "metadata": {},
   "source": [
    "文本长度的均值为35.6619，即评论字数平均值约为35个字，比景区评论少10个字左右。方差为3602.9565，说明评论的长度差别很大。偏度为10.8033，说明数据呈右偏趋势，即评论字数小于平均值的偏多。有研究认为评论的文本长度与评论有效性呈“倒U型”关系，过短或过长的评论都会降低评论的有效性。"
   ]
  }
 ],
 "metadata": {
  "kernelspec": {
   "display_name": "Python 3",
   "language": "python",
   "name": "python3"
  },
  "language_info": {
   "codemirror_mode": {
    "name": "ipython",
    "version": 3
   },
   "file_extension": ".py",
   "mimetype": "text/x-python",
   "name": "python",
   "nbconvert_exporter": "python",
   "pygments_lexer": "ipython3",
   "version": "3.7.4"
  }
 },
 "nbformat": 4,
 "nbformat_minor": 2
}
