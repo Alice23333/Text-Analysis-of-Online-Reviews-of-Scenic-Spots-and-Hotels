{
 "cells": [
  {
   "cell_type": "code",
   "execution_count": 1,
   "metadata": {},
   "outputs": [],
   "source": [
    "import pandas as pd"
   ]
  },
  {
   "cell_type": "code",
   "execution_count": 2,
   "metadata": {},
   "outputs": [],
   "source": [
    "review_path = 'E:/泰迪杯/数据挖掘2021/C/C题数据/清洗过的数据/酒店评论utf-8.csv'\n",
    "topic_path = 'E:/泰迪杯/数据挖掘2021/LDA结果/除不含名词的评论/酒店.csv'\n",
    "result_path = 'E:/泰迪杯/数据挖掘2021/LDA结果/LDA分主题结果/'"
   ]
  },
  {
   "cell_type": "code",
   "execution_count": 3,
   "metadata": {},
   "outputs": [],
   "source": [
    "reviews = pd.read_csv(review_path, encoding='utf-8')\n",
    "topic = pd.read_csv(topic_path, encoding='utf-8')[['Dominant_Topic','Topic_Perc_Contrib','Keywords','Text']]"
   ]
  },
  {
   "cell_type": "code",
   "execution_count": 4,
   "metadata": {},
   "outputs": [],
   "source": [
    "# 换列名\n",
    "name = {'Dominant_Topic':\"主题\",'Topic_Perc_Contrib':'评论对主题贡献度','Keywords':'主题关键字','Text':'评论分词'}\n",
    "topic.rename(columns = name,inplace=True)"
   ]
  },
  {
   "cell_type": "code",
   "execution_count": 5,
   "metadata": {},
   "outputs": [
    {
     "data": {
      "text/html": [
       "<div>\n",
       "<style scoped>\n",
       "    .dataframe tbody tr th:only-of-type {\n",
       "        vertical-align: middle;\n",
       "    }\n",
       "\n",
       "    .dataframe tbody tr th {\n",
       "        vertical-align: top;\n",
       "    }\n",
       "\n",
       "    .dataframe thead th {\n",
       "        text-align: right;\n",
       "    }\n",
       "</style>\n",
       "<table border=\"1\" class=\"dataframe\">\n",
       "  <thead>\n",
       "    <tr style=\"text-align: right;\">\n",
       "      <th></th>\n",
       "      <th>酒店名称</th>\n",
       "      <th>评论日期</th>\n",
       "      <th>评论内容</th>\n",
       "      <th>入住房型</th>\n",
       "    </tr>\n",
       "  </thead>\n",
       "  <tbody>\n",
       "    <tr>\n",
       "      <th>0</th>\n",
       "      <td>H01</td>\n",
       "      <td>2020-01-01</td>\n",
       "      <td>酒店很适合家庭出行</td>\n",
       "      <td>标准客房</td>\n",
       "    </tr>\n",
       "    <tr>\n",
       "      <th>1</th>\n",
       "      <td>H01</td>\n",
       "      <td>2020-01-01</td>\n",
       "      <td>升级了房间 延迟退房 很赞</td>\n",
       "      <td>标准客房</td>\n",
       "    </tr>\n",
       "    <tr>\n",
       "      <th>2</th>\n",
       "      <td>H01</td>\n",
       "      <td>2020-01-01</td>\n",
       "      <td>这几年，每年都会来广州，每次都会住**酒店。因为位置好，酒店的性价比也不错，这次给免费升级了...</td>\n",
       "      <td>标准客房</td>\n",
       "    </tr>\n",
       "    <tr>\n",
       "      <th>3</th>\n",
       "      <td>H01</td>\n",
       "      <td>2020-01-01</td>\n",
       "      <td>酒店很好不错</td>\n",
       "      <td>标准客房</td>\n",
       "    </tr>\n",
       "    <tr>\n",
       "      <th>4</th>\n",
       "      <td>H01</td>\n",
       "      <td>2020-01-01</td>\n",
       "      <td>超五星好评</td>\n",
       "      <td>高级客房</td>\n",
       "    </tr>\n",
       "    <tr>\n",
       "      <th>5</th>\n",
       "      <td>H01</td>\n",
       "      <td>2020-01-01</td>\n",
       "      <td>酒店干净卫生，服务很好！</td>\n",
       "      <td>标准客房</td>\n",
       "    </tr>\n",
       "    <tr>\n",
       "      <th>6</th>\n",
       "      <td>H01</td>\n",
       "      <td>2020-01-01</td>\n",
       "      <td>酒店位置??，属于传统的标准五星酒店，唯一遗憾的就是浴室只有浴缸，没有淋浴间。</td>\n",
       "      <td>标准客房</td>\n",
       "    </tr>\n",
       "    <tr>\n",
       "      <th>7</th>\n",
       "      <td>H01</td>\n",
       "      <td>2020-01-02</td>\n",
       "      <td>酒店设施稍微有点旧，但地理位置确实优越</td>\n",
       "      <td>标准客房</td>\n",
       "    </tr>\n",
       "    <tr>\n",
       "      <th>8</th>\n",
       "      <td>H01</td>\n",
       "      <td>2020-01-02</td>\n",
       "      <td>很不错 位置好 出行方便</td>\n",
       "      <td>标准客房</td>\n",
       "    </tr>\n",
       "    <tr>\n",
       "      <th>9</th>\n",
       "      <td>H01</td>\n",
       "      <td>2020-01-02</td>\n",
       "      <td>地理位置很好 房间干净整洁</td>\n",
       "      <td>标准客房</td>\n",
       "    </tr>\n",
       "  </tbody>\n",
       "</table>\n",
       "</div>"
      ],
      "text/plain": [
       "  酒店名称        评论日期                                               评论内容  入住房型\n",
       "0  H01  2020-01-01                                          酒店很适合家庭出行  标准客房\n",
       "1  H01  2020-01-01                                      升级了房间 延迟退房 很赞  标准客房\n",
       "2  H01  2020-01-01  这几年，每年都会来广州，每次都会住**酒店。因为位置好，酒店的性价比也不错，这次给免费升级了...  标准客房\n",
       "3  H01  2020-01-01                                             酒店很好不错  标准客房\n",
       "4  H01  2020-01-01                                              超五星好评  高级客房\n",
       "5  H01  2020-01-01                                       酒店干净卫生，服务很好！  标准客房\n",
       "6  H01  2020-01-01            酒店位置??，属于传统的标准五星酒店，唯一遗憾的就是浴室只有浴缸，没有淋浴间。  标准客房\n",
       "7  H01  2020-01-02                                酒店设施稍微有点旧，但地理位置确实优越  标准客房\n",
       "8  H01  2020-01-02                                       很不错 位置好 出行方便  标准客房\n",
       "9  H01  2020-01-02                                      地理位置很好 房间干净整洁  标准客房"
      ]
     },
     "execution_count": 5,
     "metadata": {},
     "output_type": "execute_result"
    }
   ],
   "source": [
    "reviews.head(10)"
   ]
  },
  {
   "cell_type": "code",
   "execution_count": 6,
   "metadata": {},
   "outputs": [
    {
     "data": {
      "text/html": [
       "<div>\n",
       "<style scoped>\n",
       "    .dataframe tbody tr th:only-of-type {\n",
       "        vertical-align: middle;\n",
       "    }\n",
       "\n",
       "    .dataframe tbody tr th {\n",
       "        vertical-align: top;\n",
       "    }\n",
       "\n",
       "    .dataframe thead th {\n",
       "        text-align: right;\n",
       "    }\n",
       "</style>\n",
       "<table border=\"1\" class=\"dataframe\">\n",
       "  <thead>\n",
       "    <tr style=\"text-align: right;\">\n",
       "      <th></th>\n",
       "      <th>主题</th>\n",
       "      <th>评论对主题贡献度</th>\n",
       "      <th>主题关键字</th>\n",
       "      <th>评论分词</th>\n",
       "    </tr>\n",
       "  </thead>\n",
       "  <tbody>\n",
       "    <tr>\n",
       "      <th>0</th>\n",
       "      <td>2.0</td>\n",
       "      <td>0.7856</td>\n",
       "      <td>房间, 位置, 旧, 地理位置, 住, 设施, 机场, 早餐, 出行, 出差</td>\n",
       "      <td>['适合', '家庭', '出行']</td>\n",
       "    </tr>\n",
       "    <tr>\n",
       "      <th>1</th>\n",
       "      <td>0.0</td>\n",
       "      <td>0.8565</td>\n",
       "      <td>服务, 房间, 升级, 入住, 免费, 早餐, 热情, 推荐, 满意, 不错</td>\n",
       "      <td>['升级', '房间', '延迟', '退房', '赞']</td>\n",
       "    </tr>\n",
       "    <tr>\n",
       "      <th>2</th>\n",
       "      <td>2.0</td>\n",
       "      <td>0.5995</td>\n",
       "      <td>房间, 位置, 旧, 地理位置, 住, 设施, 机场, 早餐, 出行, 出差</td>\n",
       "      <td>['几年', '广州', '每次', '住', '位置', '性价比', '不错', '免费...</td>\n",
       "    </tr>\n",
       "    <tr>\n",
       "      <th>3</th>\n",
       "      <td>0.0</td>\n",
       "      <td>0.1429</td>\n",
       "      <td>服务, 房间, 升级, 入住, 免费, 早餐, 热情, 推荐, 满意, 不错</td>\n",
       "      <td>[]</td>\n",
       "    </tr>\n",
       "    <tr>\n",
       "      <th>4</th>\n",
       "      <td>4.0</td>\n",
       "      <td>0.5070</td>\n",
       "      <td>房, 旅游, 服務, 时, 房间, 好评, 游玩, 套房, 选择, 订</td>\n",
       "      <td>['超', '五星', '好评']</td>\n",
       "    </tr>\n",
       "  </tbody>\n",
       "</table>\n",
       "</div>"
      ],
      "text/plain": [
       "    主题  评论对主题贡献度                                   主题关键字  \\\n",
       "0  2.0    0.7856  房间, 位置, 旧, 地理位置, 住, 设施, 机场, 早餐, 出行, 出差   \n",
       "1  0.0    0.8565  服务, 房间, 升级, 入住, 免费, 早餐, 热情, 推荐, 满意, 不错   \n",
       "2  2.0    0.5995  房间, 位置, 旧, 地理位置, 住, 设施, 机场, 早餐, 出行, 出差   \n",
       "3  0.0    0.1429  服务, 房间, 升级, 入住, 免费, 早餐, 热情, 推荐, 满意, 不错   \n",
       "4  4.0    0.5070     房, 旅游, 服務, 时, 房间, 好评, 游玩, 套房, 选择, 订   \n",
       "\n",
       "                                                评论分词  \n",
       "0                                 ['适合', '家庭', '出行']  \n",
       "1                      ['升级', '房间', '延迟', '退房', '赞']  \n",
       "2  ['几年', '广州', '每次', '住', '位置', '性价比', '不错', '免费...  \n",
       "3                                                 []  \n",
       "4                                  ['超', '五星', '好评']  "
      ]
     },
     "execution_count": 6,
     "metadata": {},
     "output_type": "execute_result"
    }
   ],
   "source": [
    "topic.head(5)"
   ]
  },
  {
   "cell_type": "code",
   "execution_count": 7,
   "metadata": {
    "scrolled": true
   },
   "outputs": [
    {
     "data": {
      "text/plain": [
       "(24780, 4)"
      ]
     },
     "execution_count": 7,
     "metadata": {},
     "output_type": "execute_result"
    }
   ],
   "source": [
    "reviews.shape"
   ]
  },
  {
   "cell_type": "code",
   "execution_count": 8,
   "metadata": {
    "scrolled": true
   },
   "outputs": [
    {
     "data": {
      "text/plain": [
       "(24779, 4)"
      ]
     },
     "execution_count": 8,
     "metadata": {},
     "output_type": "execute_result"
    }
   ],
   "source": [
    "topic.shape"
   ]
  },
  {
   "cell_type": "code",
   "execution_count": 9,
   "metadata": {},
   "outputs": [],
   "source": [
    "# 主题数据中没有包含最后一条评论，把reviews最后一条删掉\n",
    "reviews.drop([len(reviews)-1],inplace=True)"
   ]
  },
  {
   "cell_type": "markdown",
   "metadata": {},
   "source": [
    "# 划分主题"
   ]
  },
  {
   "cell_type": "code",
   "execution_count": 10,
   "metadata": {},
   "outputs": [],
   "source": [
    "result = reviews.join(topic)"
   ]
  },
  {
   "cell_type": "code",
   "execution_count": 11,
   "metadata": {},
   "outputs": [],
   "source": [
    "# 更改主题\n",
    "result['评价方面'] = '其他'"
   ]
  },
  {
   "cell_type": "code",
   "execution_count": 12,
   "metadata": {},
   "outputs": [],
   "source": [
    "# 服务（0），位置（2），设施（4，6），卫生（1），性价比（3，5）\n",
    "# 输入一行数据\n",
    "def change_topic(x):\n",
    "    if x[7] == '[]':\n",
    "        return x\n",
    "    if x[4] == 0.0:  # 评论分词不为空\n",
    "        x[8] = '服务'\n",
    "    elif x[4] == 2.0:\n",
    "        x[8] = '位置'\n",
    "    elif x[4] == 4.0 or x[4] == 6.0:\n",
    "        x[8] = '设施'\n",
    "    elif x[4] == 1.0:\n",
    "        x[8] = '卫生'\n",
    "    elif x[4] == 3.0 or x[4] == 5.0:\n",
    "        x[8] = '性价比'\n",
    "    return x"
   ]
  },
  {
   "cell_type": "code",
   "execution_count": 13,
   "metadata": {},
   "outputs": [],
   "source": [
    "#result.rename(columns={'评价方面': 'dominantTopic'})\n",
    "result = result.apply(lambda x:change_topic(x), axis=1)"
   ]
  },
  {
   "cell_type": "code",
   "execution_count": 14,
   "metadata": {},
   "outputs": [
    {
     "data": {
      "text/html": [
       "<div>\n",
       "<style scoped>\n",
       "    .dataframe tbody tr th:only-of-type {\n",
       "        vertical-align: middle;\n",
       "    }\n",
       "\n",
       "    .dataframe tbody tr th {\n",
       "        vertical-align: top;\n",
       "    }\n",
       "\n",
       "    .dataframe thead th {\n",
       "        text-align: right;\n",
       "    }\n",
       "</style>\n",
       "<table border=\"1\" class=\"dataframe\">\n",
       "  <thead>\n",
       "    <tr style=\"text-align: right;\">\n",
       "      <th></th>\n",
       "      <th>酒店名称</th>\n",
       "      <th>评论日期</th>\n",
       "      <th>评论内容</th>\n",
       "      <th>入住房型</th>\n",
       "      <th>主题</th>\n",
       "      <th>评论对主题贡献度</th>\n",
       "      <th>主题关键字</th>\n",
       "      <th>评论分词</th>\n",
       "      <th>评价方面</th>\n",
       "    </tr>\n",
       "  </thead>\n",
       "  <tbody>\n",
       "    <tr>\n",
       "      <th>0</th>\n",
       "      <td>H01</td>\n",
       "      <td>2020-01-01</td>\n",
       "      <td>酒店很适合家庭出行</td>\n",
       "      <td>标准客房</td>\n",
       "      <td>2.0</td>\n",
       "      <td>0.7856</td>\n",
       "      <td>房间, 位置, 旧, 地理位置, 住, 设施, 机场, 早餐, 出行, 出差</td>\n",
       "      <td>['适合', '家庭', '出行']</td>\n",
       "      <td>位置</td>\n",
       "    </tr>\n",
       "    <tr>\n",
       "      <th>1</th>\n",
       "      <td>H01</td>\n",
       "      <td>2020-01-01</td>\n",
       "      <td>升级了房间 延迟退房 很赞</td>\n",
       "      <td>标准客房</td>\n",
       "      <td>0.0</td>\n",
       "      <td>0.8565</td>\n",
       "      <td>服务, 房间, 升级, 入住, 免费, 早餐, 热情, 推荐, 满意, 不错</td>\n",
       "      <td>['升级', '房间', '延迟', '退房', '赞']</td>\n",
       "      <td>服务</td>\n",
       "    </tr>\n",
       "    <tr>\n",
       "      <th>2</th>\n",
       "      <td>H01</td>\n",
       "      <td>2020-01-01</td>\n",
       "      <td>这几年，每年都会来广州，每次都会住**酒店。因为位置好，酒店的性价比也不错，这次给免费升级了...</td>\n",
       "      <td>标准客房</td>\n",
       "      <td>2.0</td>\n",
       "      <td>0.5995</td>\n",
       "      <td>房间, 位置, 旧, 地理位置, 住, 设施, 机场, 早餐, 出行, 出差</td>\n",
       "      <td>['几年', '广州', '每次', '住', '位置', '性价比', '不错', '免费...</td>\n",
       "      <td>位置</td>\n",
       "    </tr>\n",
       "    <tr>\n",
       "      <th>3</th>\n",
       "      <td>H01</td>\n",
       "      <td>2020-01-01</td>\n",
       "      <td>酒店很好不错</td>\n",
       "      <td>标准客房</td>\n",
       "      <td>0.0</td>\n",
       "      <td>0.1429</td>\n",
       "      <td>服务, 房间, 升级, 入住, 免费, 早餐, 热情, 推荐, 满意, 不错</td>\n",
       "      <td>[]</td>\n",
       "      <td>其他</td>\n",
       "    </tr>\n",
       "    <tr>\n",
       "      <th>4</th>\n",
       "      <td>H01</td>\n",
       "      <td>2020-01-01</td>\n",
       "      <td>超五星好评</td>\n",
       "      <td>高级客房</td>\n",
       "      <td>4.0</td>\n",
       "      <td>0.5070</td>\n",
       "      <td>房, 旅游, 服務, 时, 房间, 好评, 游玩, 套房, 选择, 订</td>\n",
       "      <td>['超', '五星', '好评']</td>\n",
       "      <td>设施</td>\n",
       "    </tr>\n",
       "    <tr>\n",
       "      <th>...</th>\n",
       "      <td>...</td>\n",
       "      <td>...</td>\n",
       "      <td>...</td>\n",
       "      <td>...</td>\n",
       "      <td>...</td>\n",
       "      <td>...</td>\n",
       "      <td>...</td>\n",
       "      <td>...</td>\n",
       "      <td>...</td>\n",
       "    </tr>\n",
       "    <tr>\n",
       "      <th>24774</th>\n",
       "      <td>H50</td>\n",
       "      <td>2020-08-23</td>\n",
       "      <td>再次入住！</td>\n",
       "      <td>高级双床房</td>\n",
       "      <td>0.0</td>\n",
       "      <td>0.1429</td>\n",
       "      <td>服务, 房间, 升级, 入住, 免费, 早餐, 热情, 推荐, 满意, 不错</td>\n",
       "      <td>[]</td>\n",
       "      <td>其他</td>\n",
       "    </tr>\n",
       "    <tr>\n",
       "      <th>24775</th>\n",
       "      <td>H50</td>\n",
       "      <td>2020-08-24</td>\n",
       "      <td>酒店是老字号宾馆，虽然有装修过但设施比较陈旧房间空调比较小，卫生间里的墙壁有剥落现象，浴室的...</td>\n",
       "      <td>高级双床房</td>\n",
       "      <td>2.0</td>\n",
       "      <td>0.5633</td>\n",
       "      <td>房间, 位置, 旧, 地理位置, 住, 设施, 机场, 早餐, 出行, 出差</td>\n",
       "      <td>['老字号', '宾馆', '装修', '设施', '陈旧', '房间', '空调', '卫...</td>\n",
       "      <td>位置</td>\n",
       "    </tr>\n",
       "    <tr>\n",
       "      <th>24776</th>\n",
       "      <td>H50</td>\n",
       "      <td>2020-08-24</td>\n",
       "      <td>本人觉得还好，价格偏高，没有很高档，服务是很好，设施偏老，也不会很大，喜欢楼下的早茶。</td>\n",
       "      <td>高级大床房</td>\n",
       "      <td>2.0</td>\n",
       "      <td>0.4539</td>\n",
       "      <td>房间, 位置, 旧, 地理位置, 住, 设施, 机场, 早餐, 出行, 出差</td>\n",
       "      <td>['还好', '价格', '偏', '高', '高档', '服务', '设施', '偏', ...</td>\n",
       "      <td>位置</td>\n",
       "    </tr>\n",
       "    <tr>\n",
       "      <th>24777</th>\n",
       "      <td>H50</td>\n",
       "      <td>2020-08-24</td>\n",
       "      <td>隔音极差，睡眠让人崩溃。</td>\n",
       "      <td>高级大床房</td>\n",
       "      <td>6.0</td>\n",
       "      <td>0.5919</td>\n",
       "      <td>房间, 差, 服务态度, 入住, 疫情, 空调, 太, 期间, 点, 体验</td>\n",
       "      <td>['隔音', '极差', '睡眠', '崩溃']</td>\n",
       "      <td>设施</td>\n",
       "    </tr>\n",
       "    <tr>\n",
       "      <th>24778</th>\n",
       "      <td>H50</td>\n",
       "      <td>2020-08-25</td>\n",
       "      <td>酒店位置很好，停车场比较小。</td>\n",
       "      <td>高级双床房</td>\n",
       "      <td>2.0</td>\n",
       "      <td>0.7139</td>\n",
       "      <td>房间, 位置, 旧, 地理位置, 住, 设施, 机场, 早餐, 出行, 出差</td>\n",
       "      <td>['位置', '停车场']</td>\n",
       "      <td>位置</td>\n",
       "    </tr>\n",
       "  </tbody>\n",
       "</table>\n",
       "<p>24779 rows × 9 columns</p>\n",
       "</div>"
      ],
      "text/plain": [
       "      酒店名称        评论日期                                               评论内容  \\\n",
       "0      H01  2020-01-01                                          酒店很适合家庭出行   \n",
       "1      H01  2020-01-01                                      升级了房间 延迟退房 很赞   \n",
       "2      H01  2020-01-01  这几年，每年都会来广州，每次都会住**酒店。因为位置好，酒店的性价比也不错，这次给免费升级了...   \n",
       "3      H01  2020-01-01                                             酒店很好不错   \n",
       "4      H01  2020-01-01                                              超五星好评   \n",
       "...    ...         ...                                                ...   \n",
       "24774  H50  2020-08-23                                              再次入住！   \n",
       "24775  H50  2020-08-24  酒店是老字号宾馆，虽然有装修过但设施比较陈旧房间空调比较小，卫生间里的墙壁有剥落现象，浴室的...   \n",
       "24776  H50  2020-08-24        本人觉得还好，价格偏高，没有很高档，服务是很好，设施偏老，也不会很大，喜欢楼下的早茶。   \n",
       "24777  H50  2020-08-24                                       隔音极差，睡眠让人崩溃。   \n",
       "24778  H50  2020-08-25                                     酒店位置很好，停车场比较小。   \n",
       "\n",
       "        入住房型   主题  评论对主题贡献度                                   主题关键字  \\\n",
       "0       标准客房  2.0    0.7856  房间, 位置, 旧, 地理位置, 住, 设施, 机场, 早餐, 出行, 出差   \n",
       "1       标准客房  0.0    0.8565  服务, 房间, 升级, 入住, 免费, 早餐, 热情, 推荐, 满意, 不错   \n",
       "2       标准客房  2.0    0.5995  房间, 位置, 旧, 地理位置, 住, 设施, 机场, 早餐, 出行, 出差   \n",
       "3       标准客房  0.0    0.1429  服务, 房间, 升级, 入住, 免费, 早餐, 热情, 推荐, 满意, 不错   \n",
       "4       高级客房  4.0    0.5070     房, 旅游, 服務, 时, 房间, 好评, 游玩, 套房, 选择, 订   \n",
       "...      ...  ...       ...                                     ...   \n",
       "24774  高级双床房  0.0    0.1429  服务, 房间, 升级, 入住, 免费, 早餐, 热情, 推荐, 满意, 不错   \n",
       "24775  高级双床房  2.0    0.5633  房间, 位置, 旧, 地理位置, 住, 设施, 机场, 早餐, 出行, 出差   \n",
       "24776  高级大床房  2.0    0.4539  房间, 位置, 旧, 地理位置, 住, 设施, 机场, 早餐, 出行, 出差   \n",
       "24777  高级大床房  6.0    0.5919   房间, 差, 服务态度, 入住, 疫情, 空调, 太, 期间, 点, 体验   \n",
       "24778  高级双床房  2.0    0.7139  房间, 位置, 旧, 地理位置, 住, 设施, 机场, 早餐, 出行, 出差   \n",
       "\n",
       "                                                    评论分词 评价方面  \n",
       "0                                     ['适合', '家庭', '出行']   位置  \n",
       "1                          ['升级', '房间', '延迟', '退房', '赞']   服务  \n",
       "2      ['几年', '广州', '每次', '住', '位置', '性价比', '不错', '免费...   位置  \n",
       "3                                                     []   其他  \n",
       "4                                      ['超', '五星', '好评']   设施  \n",
       "...                                                  ...  ...  \n",
       "24774                                                 []   其他  \n",
       "24775  ['老字号', '宾馆', '装修', '设施', '陈旧', '房间', '空调', '卫...   位置  \n",
       "24776  ['还好', '价格', '偏', '高', '高档', '服务', '设施', '偏', ...   位置  \n",
       "24777                           ['隔音', '极差', '睡眠', '崩溃']   设施  \n",
       "24778                                      ['位置', '停车场']   位置  \n",
       "\n",
       "[24779 rows x 9 columns]"
      ]
     },
     "execution_count": 14,
     "metadata": {},
     "output_type": "execute_result"
    }
   ],
   "source": [
    "result"
   ]
  },
  {
   "cell_type": "code",
   "execution_count": 15,
   "metadata": {},
   "outputs": [],
   "source": [
    "# 除去评论分词为空的列表\n",
    "result = result[result['评价方面'] != '其他']"
   ]
  },
  {
   "cell_type": "code",
   "execution_count": 17,
   "metadata": {},
   "outputs": [],
   "source": [
    "result.to_csv(result_path + '酒店（含名词）utf-8.csv', encoding='utf-8',index=False)\n",
    "result.to_csv(result_path + '酒店（含名词）gbk.csv', encoding='gbk',index=False)"
   ]
  },
  {
   "cell_type": "code",
   "execution_count": null,
   "metadata": {},
   "outputs": [],
   "source": []
  }
 ],
 "metadata": {
  "kernelspec": {
   "display_name": "Python 3",
   "language": "python",
   "name": "python3"
  },
  "language_info": {
   "codemirror_mode": {
    "name": "ipython",
    "version": 3
   },
   "file_extension": ".py",
   "mimetype": "text/x-python",
   "name": "python",
   "nbconvert_exporter": "python",
   "pygments_lexer": "ipython3",
   "version": "3.7.4"
  }
 },
 "nbformat": 4,
 "nbformat_minor": 2
}
