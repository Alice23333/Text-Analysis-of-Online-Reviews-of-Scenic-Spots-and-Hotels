{
 "cells": [
  {
   "cell_type": "code",
   "execution_count": 1,
   "metadata": {},
   "outputs": [],
   "source": [
    "import pandas as pd"
   ]
  },
  {
   "cell_type": "markdown",
   "metadata": {},
   "source": [
    "## 酒店"
   ]
  },
  {
   "cell_type": "code",
   "execution_count": 2,
   "metadata": {},
   "outputs": [],
   "source": [
    "path_hotel = 'E:/泰迪杯/数据挖掘2021/LDA结果/酒店.csv'"
   ]
  },
  {
   "cell_type": "code",
   "execution_count": 3,
   "metadata": {},
   "outputs": [],
   "source": [
    "df_hotel = pd.read_csv(path_hotel, encoding='utf-8')"
   ]
  },
  {
   "cell_type": "code",
   "execution_count": 4,
   "metadata": {},
   "outputs": [
    {
     "data": {
      "text/html": [
       "<div>\n",
       "<style scoped>\n",
       "    .dataframe tbody tr th:only-of-type {\n",
       "        vertical-align: middle;\n",
       "    }\n",
       "\n",
       "    .dataframe tbody tr th {\n",
       "        vertical-align: top;\n",
       "    }\n",
       "\n",
       "    .dataframe thead th {\n",
       "        text-align: right;\n",
       "    }\n",
       "</style>\n",
       "<table border=\"1\" class=\"dataframe\">\n",
       "  <thead>\n",
       "    <tr style=\"text-align: right;\">\n",
       "      <th></th>\n",
       "      <th>Document_No</th>\n",
       "      <th>Dominant_Topic</th>\n",
       "      <th>Topic_Perc_Contrib</th>\n",
       "      <th>Keywords</th>\n",
       "      <th>Text</th>\n",
       "    </tr>\n",
       "  </thead>\n",
       "  <tbody>\n",
       "    <tr>\n",
       "      <th>0</th>\n",
       "      <td>0</td>\n",
       "      <td>4.0</td>\n",
       "      <td>0.7973</td>\n",
       "      <td>服务, 房间, 位置, 干净, 卫生, 早餐, 设施, 免费, 交通, 升级</td>\n",
       "      <td>['适合', '家庭', '出行']</td>\n",
       "    </tr>\n",
       "    <tr>\n",
       "      <th>1</th>\n",
       "      <td>1</td>\n",
       "      <td>4.0</td>\n",
       "      <td>0.8640</td>\n",
       "      <td>服务, 房间, 位置, 干净, 卫生, 早餐, 设施, 免费, 交通, 升级</td>\n",
       "      <td>['升级', '房间', '延迟', '退房', '赞']</td>\n",
       "    </tr>\n",
       "    <tr>\n",
       "      <th>2</th>\n",
       "      <td>2</td>\n",
       "      <td>4.0</td>\n",
       "      <td>0.4100</td>\n",
       "      <td>服务, 房间, 位置, 干净, 卫生, 早餐, 设施, 免费, 交通, 升级</td>\n",
       "      <td>['几年', '广州', '每次', '住', '位置', '性价比', '不错', '免费...</td>\n",
       "    </tr>\n",
       "    <tr>\n",
       "      <th>3</th>\n",
       "      <td>3</td>\n",
       "      <td>1.0</td>\n",
       "      <td>0.5997</td>\n",
       "      <td>不错, 环境, 服务, 早餐, 房间, 干净, 设施, 卫生, 服务态度, 推荐</td>\n",
       "      <td>['不错']</td>\n",
       "    </tr>\n",
       "    <tr>\n",
       "      <th>4</th>\n",
       "      <td>4</td>\n",
       "      <td>2.0</td>\n",
       "      <td>0.7956</td>\n",
       "      <td>住, 入住, 服务, 下次, 房间, 很好, 服务态度, 感觉, 这家, 每次</td>\n",
       "      <td>['超', '五星', '好评']</td>\n",
       "    </tr>\n",
       "  </tbody>\n",
       "</table>\n",
       "</div>"
      ],
      "text/plain": [
       "   Document_No  Dominant_Topic  Topic_Perc_Contrib  \\\n",
       "0            0             4.0              0.7973   \n",
       "1            1             4.0              0.8640   \n",
       "2            2             4.0              0.4100   \n",
       "3            3             1.0              0.5997   \n",
       "4            4             2.0              0.7956   \n",
       "\n",
       "                                   Keywords  \\\n",
       "0    服务, 房间, 位置, 干净, 卫生, 早餐, 设施, 免费, 交通, 升级   \n",
       "1    服务, 房间, 位置, 干净, 卫生, 早餐, 设施, 免费, 交通, 升级   \n",
       "2    服务, 房间, 位置, 干净, 卫生, 早餐, 设施, 免费, 交通, 升级   \n",
       "3  不错, 环境, 服务, 早餐, 房间, 干净, 设施, 卫生, 服务态度, 推荐   \n",
       "4   住, 入住, 服务, 下次, 房间, 很好, 服务态度, 感觉, 这家, 每次   \n",
       "\n",
       "                                                Text  \n",
       "0                                 ['适合', '家庭', '出行']  \n",
       "1                      ['升级', '房间', '延迟', '退房', '赞']  \n",
       "2  ['几年', '广州', '每次', '住', '位置', '性价比', '不错', '免费...  \n",
       "3                                             ['不错']  \n",
       "4                                  ['超', '五星', '好评']  "
      ]
     },
     "execution_count": 4,
     "metadata": {},
     "output_type": "execute_result"
    }
   ],
   "source": [
    "df_hotel.head()"
   ]
  },
  {
   "cell_type": "code",
   "execution_count": 5,
   "metadata": {
    "scrolled": true
   },
   "outputs": [
    {
     "data": {
      "text/plain": [
       "Document_No           619\n",
       "Dominant_Topic        619\n",
       "Topic_Perc_Contrib    619\n",
       "Keywords              619\n",
       "Text                  619\n",
       "dtype: int64"
      ]
     },
     "execution_count": 5,
     "metadata": {},
     "output_type": "execute_result"
    }
   ],
   "source": [
    "# 计算与主题无关的评论条数\n",
    "threshold_hotel=0.23  # 阈值\n",
    "df_hotel[df_hotel['Topic_Perc_Contrib']<threshold_hotel].count()"
   ]
  },
  {
   "cell_type": "markdown",
   "metadata": {},
   "source": [
    "## 景区"
   ]
  },
  {
   "cell_type": "code",
   "execution_count": 6,
   "metadata": {},
   "outputs": [],
   "source": [
    "path_scenery = 'E:/泰迪杯/数据挖掘2021/LDA结果/景区.csv'"
   ]
  },
  {
   "cell_type": "code",
   "execution_count": 7,
   "metadata": {},
   "outputs": [],
   "source": [
    "df_scenery = pd.read_csv(path_scenery, encoding='utf-8')"
   ]
  },
  {
   "cell_type": "code",
   "execution_count": 8,
   "metadata": {},
   "outputs": [
    {
     "data": {
      "text/html": [
       "<div>\n",
       "<style scoped>\n",
       "    .dataframe tbody tr th:only-of-type {\n",
       "        vertical-align: middle;\n",
       "    }\n",
       "\n",
       "    .dataframe tbody tr th {\n",
       "        vertical-align: top;\n",
       "    }\n",
       "\n",
       "    .dataframe thead th {\n",
       "        text-align: right;\n",
       "    }\n",
       "</style>\n",
       "<table border=\"1\" class=\"dataframe\">\n",
       "  <thead>\n",
       "    <tr style=\"text-align: right;\">\n",
       "      <th></th>\n",
       "      <th>Document_No</th>\n",
       "      <th>Dominant_Topic</th>\n",
       "      <th>Topic_Perc_Contrib</th>\n",
       "      <th>Keywords</th>\n",
       "      <th>Text</th>\n",
       "    </tr>\n",
       "  </thead>\n",
       "  <tbody>\n",
       "    <tr>\n",
       "      <th>0</th>\n",
       "      <td>0</td>\n",
       "      <td>6.0</td>\n",
       "      <td>0.6205</td>\n",
       "      <td>上山, 广东, 导游, 山顶, 时, 走, 到达, 两个, 下午, 坐</td>\n",
       "      <td>['亲子', '绝佳', '场所', '贵', '接受', '爷爷奶奶', '放心', '跟...</td>\n",
       "    </tr>\n",
       "    <tr>\n",
       "      <th>1</th>\n",
       "      <td>1</td>\n",
       "      <td>6.0</td>\n",
       "      <td>0.3785</td>\n",
       "      <td>上山, 广东, 导游, 山顶, 时, 走, 到达, 两个, 下午, 坐</td>\n",
       "      <td>['票价', '偏贵', '马戏', '精彩', '八点', '场次', '检票', '位置...</td>\n",
       "    </tr>\n",
       "    <tr>\n",
       "      <th>2</th>\n",
       "      <td>2</td>\n",
       "      <td>7.0</td>\n",
       "      <td>0.4892</td>\n",
       "      <td>环境, 贵, 很好, 没什么, 吃, 东西, 太, 差, 感觉, 风景</td>\n",
       "      <td>['特色', '亲子', '房间', '装修', '可爱', '特别', '喜欢', '洗漱...</td>\n",
       "    </tr>\n",
       "    <tr>\n",
       "      <th>3</th>\n",
       "      <td>3</td>\n",
       "      <td>6.0</td>\n",
       "      <td>0.6576</td>\n",
       "      <td>上山, 广东, 导游, 山顶, 时, 走, 到达, 两个, 下午, 坐</td>\n",
       "      <td>['园区', '工作人员', '主动', '园区', '地图', '表演', '安排', '...</td>\n",
       "    </tr>\n",
       "    <tr>\n",
       "      <th>4</th>\n",
       "      <td>4</td>\n",
       "      <td>6.0</td>\n",
       "      <td>0.3430</td>\n",
       "      <td>上山, 广东, 导游, 山顶, 时, 走, 到达, 两个, 下午, 坐</td>\n",
       "      <td>['周五', '逃课', '朋友', '广州', '集合', '终于', '如愿以偿', '...</td>\n",
       "    </tr>\n",
       "  </tbody>\n",
       "</table>\n",
       "</div>"
      ],
      "text/plain": [
       "   Document_No  Dominant_Topic  Topic_Perc_Contrib  \\\n",
       "0            0             6.0              0.6205   \n",
       "1            1             6.0              0.3785   \n",
       "2            2             7.0              0.4892   \n",
       "3            3             6.0              0.6576   \n",
       "4            4             6.0              0.3430   \n",
       "\n",
       "                              Keywords  \\\n",
       "0  上山, 广东, 导游, 山顶, 时, 走, 到达, 两个, 下午, 坐   \n",
       "1  上山, 广东, 导游, 山顶, 时, 走, 到达, 两个, 下午, 坐   \n",
       "2  环境, 贵, 很好, 没什么, 吃, 东西, 太, 差, 感觉, 风景   \n",
       "3  上山, 广东, 导游, 山顶, 时, 走, 到达, 两个, 下午, 坐   \n",
       "4  上山, 广东, 导游, 山顶, 时, 走, 到达, 两个, 下午, 坐   \n",
       "\n",
       "                                                Text  \n",
       "0  ['亲子', '绝佳', '场所', '贵', '接受', '爷爷奶奶', '放心', '跟...  \n",
       "1  ['票价', '偏贵', '马戏', '精彩', '八点', '场次', '检票', '位置...  \n",
       "2  ['特色', '亲子', '房间', '装修', '可爱', '特别', '喜欢', '洗漱...  \n",
       "3  ['园区', '工作人员', '主动', '园区', '地图', '表演', '安排', '...  \n",
       "4  ['周五', '逃课', '朋友', '广州', '集合', '终于', '如愿以偿', '...  "
      ]
     },
     "execution_count": 8,
     "metadata": {},
     "output_type": "execute_result"
    }
   ],
   "source": [
    "df_scenery.head()"
   ]
  },
  {
   "cell_type": "code",
   "execution_count": 9,
   "metadata": {},
   "outputs": [
    {
     "data": {
      "text/plain": [
       "Document_No           2265\n",
       "Dominant_Topic        2265\n",
       "Topic_Perc_Contrib    2265\n",
       "Keywords              2265\n",
       "Text                  2265\n",
       "dtype: int64"
      ]
     },
     "execution_count": 9,
     "metadata": {},
     "output_type": "execute_result"
    }
   ],
   "source": [
    "# 计算与主题无关的评论条数\n",
    "threshold_scenery=0.23\n",
    "df_scenery[df_scenery['Topic_Perc_Contrib']<threshold_scenery].count()"
   ]
  }
 ],
 "metadata": {
  "kernelspec": {
   "display_name": "Python 3",
   "language": "python",
   "name": "python3"
  },
  "language_info": {
   "codemirror_mode": {
    "name": "ipython",
    "version": 3
   },
   "file_extension": ".py",
   "mimetype": "text/x-python",
   "name": "python",
   "nbconvert_exporter": "python",
   "pygments_lexer": "ipython3",
   "version": "3.7.4"
  }
 },
 "nbformat": 4,
 "nbformat_minor": 2
}
